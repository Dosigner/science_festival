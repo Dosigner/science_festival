{
 "cells": [
  {
   "cell_type": "markdown",
   "metadata": {},
   "source": [
    "## Mediapipe를 이용한 닥터스트레인지 제스처 활용하기\n",
    "____________________________________"
   ]
  },
  {
   "cell_type": "markdown",
   "metadata": {},
   "source": [
    "### 1. 라이브러리 추가하기"
   ]
  },
  {
   "cell_type": "code",
   "execution_count": 1,
   "metadata": {},
   "outputs": [],
   "source": [
    "import cv2\n",
    "import mediapipe as mp\n",
    "import math\n",
    "import time"
   ]
  },
  {
   "cell_type": "markdown",
   "metadata": {},
   "source": [
    "### 2. mediapipe에서 손 object 불러오기\n",
    "```static_image_mode```는 동영상의 경우 False, 사진의 경우 True\n"
   ]
  },
  {
   "cell_type": "code",
   "execution_count": 5,
   "metadata": {},
   "outputs": [],
   "source": [
    "mpHands = mp.solutions.hands\n",
    "# <module 'mediapipe.python.solutions.hands' from ..\\\\mediapipe\\\\python\\\\solutions\\\\hands.py\n",
    "\n",
    "my_hands = mpHands.Hands(static_image_mode=False, 2, 0.6, 0.5)\n",
    "# <mediapipe.python.solutions.hands.Hands object at 0x00000184FDD44C18>\n",
    "\n",
    "mpDraw = mp.solutions.drawing_utils\n",
    "# ..\\mediapipe\\\\python\\\\solutions\\\\drawing_utils.py"
   ]
  },
  {
   "cell_type": "markdown",
   "metadata": {},
   "source": [
    "### 3. 함수 선언\n",
    "1. 거리함수"
   ]
  },
  {
   "cell_type": "code",
   "execution_count": null,
   "metadata": {},
   "outputs": [],
   "source": [
    "def dist(x1, y1, x2, y2):\n",
    "    return math.sqrt(math.pow(x1-x2,2)) + math.sqrt(math.pow(y1-y2,2))"
   ]
  },
  {
   "cell_type": "markdown",
   "metadata": {},
   "source": [
    "### 4. 카메라 시작"
   ]
  },
  {
   "cell_type": "code",
   "execution_count": null,
   "metadata": {},
   "outputs": [],
   "source": [
    "cap = cv2.VideoCapture(0)\n",
    "#print(cap) # <VideoCapture 0000018485E3E4D0>\n",
    "\n",
    "while True:\n",
    "    # cap(카메라)에서 img 가져오기, success는 사용 여부\n",
    "    success, img = cap.read()\n",
    "    # h, w,\n",
    "    h,w,c = img.shape\n",
    "    imgRGB = cv2.cvtColor(img, cv2.COLOR_BGR2RGB)\n",
    "    results = my_hands.process(imgRGB)\n",
    "    \n",
    "    if results.multi_hand_landmarks:\n",
    "        for handLms in results.multi_hand_landmarks:\n",
    "            \n"
   ]
  }
 ],
 "metadata": {
  "kernelspec": {
   "display_name": "Python 3",
   "language": "python",
   "name": "python3"
  },
  "language_info": {
   "codemirror_mode": {
    "name": "ipython",
    "version": 3
   },
   "file_extension": ".py",
   "mimetype": "text/x-python",
   "name": "python",
   "nbconvert_exporter": "python",
   "pygments_lexer": "ipython3",
   "version": "3.6.10"
  }
 },
 "nbformat": 4,
 "nbformat_minor": 4
}
